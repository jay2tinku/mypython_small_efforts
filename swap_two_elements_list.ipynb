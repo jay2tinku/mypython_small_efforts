{
 "cells": [
  {
   "cell_type": "code",
   "execution_count": 14,
   "id": "5ea981eb",
   "metadata": {},
   "outputs": [
    {
     "name": "stdout",
     "output_type": "stream",
     "text": [
      "[23, 65, 19, 90, 100]\n",
      "Enter first position: 2\n",
      "Enter first position: 3\n"
     ]
    },
    {
     "data": {
      "text/plain": [
       "[23, 65, 90, 19, 100]"
      ]
     },
     "execution_count": 14,
     "metadata": {},
     "output_type": "execute_result"
    }
   ],
   "source": [
    "def swap_list(list):\n",
    "    list[pos1],list[pos2] = list[pos2],list[pos1]\n",
    "    return list\n",
    "\n",
    "list = [23, 65, 19, 90, 100]\n",
    "print(list)\n",
    "pos1 = int(input('Enter first position: '))\n",
    "pos2 = int(input('Enter first position: '))\n",
    "swap_list(list)"
   ]
  }
 ],
 "metadata": {
  "kernelspec": {
   "display_name": "Python 3 (ipykernel)",
   "language": "python",
   "name": "python3"
  },
  "language_info": {
   "codemirror_mode": {
    "name": "ipython",
    "version": 3
   },
   "file_extension": ".py",
   "mimetype": "text/x-python",
   "name": "python",
   "nbconvert_exporter": "python",
   "pygments_lexer": "ipython3",
   "version": "3.9.12"
  }
 },
 "nbformat": 4,
 "nbformat_minor": 5
}
