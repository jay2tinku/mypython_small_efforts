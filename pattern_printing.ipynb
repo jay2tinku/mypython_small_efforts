{
 "cells": [
  {
   "cell_type": "code",
   "execution_count": 30,
   "id": "159b8f52",
   "metadata": {},
   "outputs": [
    {
     "name": "stdout",
     "output_type": "stream",
     "text": [
      "Please input length of your Diamond :5\n",
      "*\n",
      "**\n",
      "***\n",
      "****\n",
      "*****\n",
      "****\n",
      "***\n",
      "**\n",
      "*\n"
     ]
    }
   ],
   "source": [
    "# Half Diamond Pattern printing Exercises\n",
    "# Using while loop\n",
    "\n",
    "num = 0\n",
    "dia_len = int(input(\"Please input length of your Diamond :\"))\n",
    "while num < dia_len:\n",
    "    num += 1\n",
    "    print(num*'*')\n",
    "while num != 1:\n",
    "    num -= 1\n",
    "    dia_len -= 1\n",
    "    print(num*'*')"
   ]
  },
  {
   "cell_type": "code",
   "execution_count": 63,
   "id": "bf31d2bb",
   "metadata": {},
   "outputs": [
    {
     "name": "stdout",
     "output_type": "stream",
     "text": [
      "Please input your Diamond length :5\n",
      "*\n",
      "**\n",
      "***\n",
      "****\n",
      "*****\n",
      "****\n",
      "***\n",
      "**\n",
      "*\n"
     ]
    }
   ],
   "source": [
    "# using for loop\n",
    "dia_len = int(input(\"Please input your Diamond length :\"))\n",
    "for i in range(dia_len):\n",
    "    for j in range(0, i+1):\n",
    "        print('*', end=\"\")\n",
    "    print()\n",
    "for i in range(1, 5):\n",
    "    for j in range(i, 5):\n",
    "        print('*', end=\"\")\n",
    "    print()"
   ]
  },
  {
   "cell_type": "code",
   "execution_count": 97,
   "id": "a7493956",
   "metadata": {},
   "outputs": [
    {
     "name": "stdout",
     "output_type": "stream",
     "text": [
      "Please enter pattern size :5\n",
      "*\n",
      "**\n",
      "***\n",
      "****\n",
      "*****\n"
     ]
    }
   ],
   "source": [
    "def pypart(pat_size):\n",
    "    for i  in range(pat_size):\n",
    "        i = i + 1\n",
    "        print(i*\"*\")\n",
    "    \n",
    "pat_size = int(input(\"Please enter pattern size :\"))\n",
    "#print(pypart(pat_size))\n",
    "pypart(pat_size)"
   ]
  },
  {
   "cell_type": "code",
   "execution_count": 96,
   "id": "62c4835d",
   "metadata": {},
   "outputs": [
    {
     "name": "stdout",
     "output_type": "stream",
     "text": [
      "Please enter pattern size :4\n",
      "1\n",
      "11\n",
      "111\n",
      "1111\n"
     ]
    }
   ],
   "source": [
    "def pypart(pat_size):\n",
    "    for i  in range(pat_size):\n",
    "        i = i + 1\n",
    "        print(i*\"1\")\n",
    "    \n",
    "pat_size = int(input(\"Please enter pattern size :\"))\n",
    "#print(pypart(pat_size))\n",
    "pypart(pat_size)"
   ]
  },
  {
   "cell_type": "code",
   "execution_count": 116,
   "id": "af0189f2",
   "metadata": {},
   "outputs": [
    {
     "name": "stdout",
     "output_type": "stream",
     "text": [
      "*\n",
      "**\n",
      "***\n",
      "****\n",
      "*****\n"
     ]
    }
   ],
   "source": [
    "def pypart(n):\n",
    "    for i in range(n):\n",
    "        for j in range(0, i+1):\n",
    "            print(\"*\",end=\"\")\n",
    "        print()\n",
    "n = 5\n",
    "pypart(n)"
   ]
  },
  {
   "cell_type": "code",
   "execution_count": 119,
   "id": "ca5bb433",
   "metadata": {},
   "outputs": [
    {
     "name": "stdout",
     "output_type": "stream",
     "text": [
      "1\r\n",
      "12\r\n",
      "123\r\n",
      "1234\r\n",
      "12345\r\n"
     ]
    }
   ],
   "source": [
    "def pypart(n):\n",
    "    for i in range(n):\n",
    "        for j in range(0, i+1):\n",
    "            j += 1\n",
    "            print(j, end=\"\")\n",
    "        #print()\n",
    "        print(\"\\r\")\n",
    "n = 5\n",
    "pypart(n)"
   ]
  },
  {
   "cell_type": "code",
   "execution_count": 163,
   "id": "1ebce2d8",
   "metadata": {},
   "outputs": [
    {
     "name": "stdout",
     "output_type": "stream",
     "text": [
      "*****\n",
      "****\n",
      "***\n",
      "**\n",
      "*\n"
     ]
    }
   ],
   "source": [
    "def pypart(n):\n",
    "    for i in range(n):\n",
    "        for j in range(i, n):\n",
    "            print(\"*\",end=\"\")\n",
    "        print()\n",
    "n = 5\n",
    "pypart(n)"
   ]
  },
  {
   "cell_type": "code",
   "execution_count": 193,
   "id": "101881b3",
   "metadata": {},
   "outputs": [
    {
     "name": "stdout",
     "output_type": "stream",
     "text": [
      "* \n",
      "* * \n",
      "* * * \n",
      "* * * * \n",
      "* * * * * \n"
     ]
    }
   ],
   "source": [
    "def pypart(n):\n",
    "    for i in range(n):\n",
    "        for j in range(i+1):\n",
    "            print(\"* \",end=\"\")\n",
    "        print()\n",
    "n = 5\n",
    "pypart(n)"
   ]
  },
  {
   "cell_type": "code",
   "execution_count": 220,
   "id": "f76b439a",
   "metadata": {},
   "outputs": [
    {
     "name": "stdout",
     "output_type": "stream",
     "text": [
      "        * \r\n",
      "      * * \r\n",
      "    * * * \r\n",
      "  * * * * \r\n",
      "* * * * * \r\n"
     ]
    }
   ],
   "source": [
    "def pypart2(n):\n",
    "    # number of spaces\n",
    "    k = 2*n - 2\n",
    "    for i in range(n):\n",
    "        for j in range(k):\n",
    "            print(end=\" \")\n",
    "        \n",
    "        k = k - 2\n",
    "        \n",
    "        for j in range(i+1):\n",
    "            print(\"* \", end=\"\")\n",
    "        print(\"\\r\")\n",
    " \n",
    "n = 5\n",
    "pypart2(n)"
   ]
  },
  {
   "cell_type": "code",
   "execution_count": 237,
   "id": "cf493af2",
   "metadata": {},
   "outputs": [
    {
     "name": "stdout",
     "output_type": "stream",
     "text": [
      "        * \n",
      "      * * \n",
      "    * * * \n",
      "  * * * * \n",
      "* * * * * \n"
     ]
    }
   ],
   "source": [
    "def pattern(n):\n",
    "    k = 2*n-2\n",
    "    for i in range(n):\n",
    "        for j in range(k):\n",
    "            print(end=\" \")\n",
    "        k -= 2\n",
    "        for j in range(i+1):\n",
    "            print(\"* \", end=\"\")\n",
    "        print()\n",
    "    \n",
    "n = 5\n",
    "pattern(n)"
   ]
  },
  {
   "cell_type": "code",
   "execution_count": 239,
   "id": "cad01a8c",
   "metadata": {},
   "outputs": [
    {
     "name": "stdout",
     "output_type": "stream",
     "text": [
      "         * \n",
      "        * * \n",
      "       * * * \n",
      "      * * * * \n",
      "     * * * * * \n"
     ]
    }
   ],
   "source": [
    "def pattern(n):\n",
    "    k = 2*n-1\n",
    "    for i in range(n):\n",
    "        for j in range(k):\n",
    "            print(end=\" \")\n",
    "        k -= 1\n",
    "        for j in range(i+1):\n",
    "            print(\"* \", end=\"\")\n",
    "        print()\n",
    "    \n",
    "n = 5\n",
    "pattern(n)"
   ]
  },
  {
   "cell_type": "code",
   "execution_count": 246,
   "id": "c48bc9fe",
   "metadata": {},
   "outputs": [
    {
     "name": "stdout",
     "output_type": "stream",
     "text": [
      "     \n",
      "    *\n",
      "   **\n",
      "  ***\n",
      " ****\n",
      "*****\n"
     ]
    }
   ],
   "source": [
    "# python3 code to print pyramid pattern using while loop\n",
    "n=5;i=0\n",
    "while(i<=n):\n",
    "  print(\" \" * (n - i) +\"*\" * i)\n",
    "  i+=1"
   ]
  },
  {
   "cell_type": "code",
   "execution_count": 247,
   "id": "d08f8966",
   "metadata": {},
   "outputs": [
    {
     "name": "stdout",
     "output_type": "stream",
     "text": [
      "     \n",
      "    * \n",
      "   * * \n",
      "  * * * \n",
      " * * * * \n",
      "* * * * * \n"
     ]
    }
   ],
   "source": [
    "# python3 code to print pyramid pattern using while loop\n",
    "n=5;i=0\n",
    "while(i<=n):\n",
    "  print(\" \" * (n - i) +\"* \" * i)\n",
    "  i+=1"
   ]
  }
 ],
 "metadata": {
  "kernelspec": {
   "display_name": "Python 3 (ipykernel)",
   "language": "python",
   "name": "python3"
  },
  "language_info": {
   "codemirror_mode": {
    "name": "ipython",
    "version": 3
   },
   "file_extension": ".py",
   "mimetype": "text/x-python",
   "name": "python",
   "nbconvert_exporter": "python",
   "pygments_lexer": "ipython3",
   "version": "3.9.12"
  }
 },
 "nbformat": 4,
 "nbformat_minor": 5
}
