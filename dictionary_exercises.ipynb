{
 "cells": [
  {
   "cell_type": "code",
   "execution_count": 55,
   "id": "1e0752f5",
   "metadata": {},
   "outputs": [
    {
     "name": "stdout",
     "output_type": "stream",
     "text": [
      "{'2': '238', '4': '231', '1': '234', '3': '238', '6': '236', '5': '231'} \n",
      "\n",
      "dict_keys(['2', '4', '1', '3', '6', '5']) \n",
      "\n",
      "OrderedDict([('1', '234'), ('2', '238'), ('3', '238'), ('4', '231'), ('5', '231'), ('6', '236')]) \n",
      "\n",
      "<class 'collections.OrderedDict'>\n"
     ]
    }
   ],
   "source": [
    "#sort dictionary with key values\n",
    "\n",
    "from collections import OrderedDict\n",
    "key_value = {\n",
    "    '2' : '238',\n",
    "    '4' : '231',\n",
    "    '1' : '234',\n",
    "    '3' : '238',\n",
    "    '6' : '236',\n",
    "    '5' : '231'\n",
    "}\n",
    "print(key_value,\"\\n\")\n",
    "#print(type(key_value))\n",
    "#print(key_value.values())\n",
    "print(key_value.keys(),\"\\n\")\n",
    "\n",
    "key_value1 = OrderedDict(sorted(key_value.items()))\n",
    "\n",
    "#key_value1 = key_value(sorted(key_value.items))\n",
    "print(key_value1,\"\\n\")\n",
    "print(type(key_value1))"
   ]
  },
  {
   "cell_type": "code",
   "execution_count": 68,
   "id": "6081c128",
   "metadata": {},
   "outputs": [
    {
     "name": "stdout",
     "output_type": "stream",
     "text": [
      "Size of Set1 :  472 bytes\n",
      "Size of Set1 :  472 bytes\n",
      "Size of Set1 :  216 bytes\n"
     ]
    }
   ],
   "source": [
    "\"\"\"\n",
    "Find the size of a Set in Python\n",
    "\"\"\"\n",
    "import sys\n",
    "\n",
    "set1 = {\"A\", 1, \"B\", 2, \"C\", 3}\n",
    "set2 = {\"Geek1\", \"Raju\", \"Geek2\", \"Nikhil\", \"Geek3\", \"Deepanshu\"}\n",
    "set3 = {(1, \"Lion\"), ( 2, \"Tiger\"), (3, \"Fox\")}\n",
    "\n",
    "print(\"Size of Set1 : \",sys.getsizeof(set1),\"bytes\")\n",
    "print(\"Size of Set1 : \",sys.getsizeof(set2),\"bytes\")\n",
    "print(\"Size of Set1 : \",sys.getsizeof(set3),\"bytes\")\n"
   ]
  },
  {
   "cell_type": "code",
   "execution_count": 70,
   "id": "fc88c59a",
   "metadata": {},
   "outputs": [
    {
     "name": "stdout",
     "output_type": "stream",
     "text": [
      "g\n",
      "k\n",
      "E\n",
      "s\n",
      "e\n"
     ]
    }
   ],
   "source": [
    "\"\"\"\n",
    "Iterate over a set in Python\n",
    "\"\"\"\n",
    "\n",
    "test_set = set(\"geEks\")\n",
    "for i in test_set:\n",
    "    print(i)"
   ]
  },
  {
   "cell_type": "code",
   "execution_count": 75,
   "id": "cdca6785",
   "metadata": {},
   "outputs": [
    {
     "name": "stdout",
     "output_type": "stream",
     "text": [
      "min and Max in given set is :  1 and 65\n"
     ]
    }
   ],
   "source": [
    "# min and Max in given set\n",
    "\n",
    "set = ([8, 16, 24, 1, 25, 3, 10, 65, 55])\n",
    "print(\"min and Max in given set is : \", min(set), \"and\", max(set))"
   ]
  },
  {
   "cell_type": "code",
   "execution_count": 111,
   "id": "12299eff",
   "metadata": {
    "scrolled": true
   },
   "outputs": [
    {
     "name": "stdout",
     "output_type": "stream",
     "text": [
      "[1, 3, 8, 10, 16, 24, 25, 55, 65]\n",
      "[1, 3, 8, 10, 16, 24, 25, 55]\n",
      "[1, 3, 8, 10, 16, 24, 25]\n",
      "[1, 3, 8, 10, 16, 24]\n",
      "[1, 3, 8, 10, 16]\n",
      "[1, 3, 8, 10]\n",
      "[1, 3, 8]\n",
      "[1, 3]\n",
      "[1]\n",
      "[]\n",
      "None\n",
      "\n",
      " \n",
      " \n",
      "######################################################### \n",
      " \n",
      " \n",
      "\n",
      "['a', 'b', 'c', 'd', 'e', 'f', 'g', 'k', 'p', 'r']\n",
      "['a', 'b', 'c', 'd', 'e', 'f', 'g', 'k', 'p']\n",
      "['a', 'b', 'c', 'd', 'e', 'f', 'g', 'k']\n",
      "['a', 'b', 'c', 'd', 'e', 'f', 'g']\n",
      "['a', 'b', 'c', 'd', 'e', 'f']\n",
      "['a', 'b', 'c', 'd', 'e']\n",
      "['a', 'b', 'c', 'd']\n",
      "['a', 'b', 'c']\n",
      "['a', 'b']\n",
      "['a']\n",
      "[]\n",
      "None\n"
     ]
    }
   ],
   "source": [
    "#Remove items from Set\n",
    "def remove_set(set):\n",
    "    set = sorted(set)\n",
    "    print(set)\n",
    "    while set:\n",
    "        set.pop()\n",
    "        print(set)\n",
    "    \n",
    "set = ([8, 16, 24, 1, 25, 3, 10, 65, 55])\n",
    "print(remove_set(set))\n",
    "print(\"\\n \\n \\n######################################################### \\n \\n \\n\")\n",
    "def add_set(set1):\n",
    "    while set1:\n",
    "        set1 = sorted(set1)\n",
    "        set1.pop()\n",
    "        print(set1)\n",
    "    \n",
    "set1 = (['d', 'c', 'a', 'e', 'g', 'f', 'b', 'k', 'r', 'p', 's'])\n",
    "print(add_set(set1))"
   ]
  },
  {
   "cell_type": "code",
   "execution_count": 131,
   "id": "5b6f8d24",
   "metadata": {},
   "outputs": [
    {
     "name": "stdout",
     "output_type": "stream",
     "text": [
      "List1 is :  [1, 2, 3, 4, 5] \n",
      "List2 is :  [5, 6, 7, 8, 9]\n",
      "\n",
      "List1 content exist in List2\n"
     ]
    }
   ],
   "source": [
    "#Check if two lists have at-least one\n",
    "list1 = [1, 2, 3, 4, 5]\n",
    "list2 = [5, 6, 7, 8, 9]\n",
    "\n",
    "print(\"List1 is : \",list1,\"\\nList2 is : \",list2)\n",
    "\n",
    "exist = False\n",
    "for x in list1:\n",
    "    for y in list2:\n",
    "        if x == y:\n",
    "            exist = True\n",
    "if exist == True:\n",
    "    print(\"\\nList1 content exist in List2\")\n",
    "else:\n",
    "    print(\"\\nList1 content doesn't exist in List2\")"
   ]
  },
  {
   "cell_type": "code",
   "execution_count": null,
   "id": "a8a97763",
   "metadata": {},
   "outputs": [],
   "source": []
  },
  {
   "cell_type": "code",
   "execution_count": null,
   "id": "0c516243",
   "metadata": {},
   "outputs": [],
   "source": []
  }
 ],
 "metadata": {
  "kernelspec": {
   "display_name": "Python 3 (ipykernel)",
   "language": "python",
   "name": "python3"
  },
  "language_info": {
   "codemirror_mode": {
    "name": "ipython",
    "version": 3
   },
   "file_extension": ".py",
   "mimetype": "text/x-python",
   "name": "python",
   "nbconvert_exporter": "python",
   "pygments_lexer": "ipython3",
   "version": "3.9.12"
  }
 },
 "nbformat": 4,
 "nbformat_minor": 5
}
