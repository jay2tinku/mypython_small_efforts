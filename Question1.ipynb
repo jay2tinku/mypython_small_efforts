{
 "cells": [
  {
   "cell_type": "code",
   "execution_count": 5,
   "id": "6111bdc2",
   "metadata": {},
   "outputs": [
    {
     "name": "stdout",
     "output_type": "stream",
     "text": [
      "Linearly independent\n"
     ]
    }
   ],
   "source": [
    "import numpy as np\n",
    "\"\"\"\n",
    "i) Write a code to generate five random vectors a1, a2, a3, a4, a5 ∈R5\n",
    "and verify that these set of vectors are linearly independent.\n",
    "\"\"\"\n",
    "a1=np.random.rand(5)\n",
    "a2=np.random.rand(5)\n",
    "a3=np.random.rand(5)\n",
    "a4=np.random.rand(5)\n",
    "a5=np.random.rand(5)\n",
    "#a5=np.random.randint(0, 10, size=[5,1])\n",
    "\"\"\"\n",
    "print(\"a1: \\n\",a1)\n",
    "print(\"a2: \\n\",a2)\n",
    "print(\"a3: \\n\",a3)\n",
    "print(\"a4: \\n\",a4)\n",
    "print(\"a5: \\n\",a5)\n",
    "\"\"\"\n",
    "A = np.array([a1,a2,a3,a4,a5])\n",
    "detOfA=np.linalg.det(A)\n",
    "if detOfA == 0:\n",
    "    print(\"Linearly Dependent\")\n",
    "else:\n",
    "    print(\"Linearly independent\")"
   ]
  },
  {
   "cell_type": "code",
   "execution_count": 6,
   "id": "e0166b4c",
   "metadata": {},
   "outputs": [
    {
     "name": "stdout",
     "output_type": "stream",
     "text": [
      "[[0.9574661  0.59780324 0.11965635 0.9400401  0.15528495]\n",
      " [0.12634045 0.23401916 0.70613669 0.05811015 0.87234526]\n",
      " [0.27667626 0.80605506 0.40175381 0.92900563 0.41458766]\n",
      " [0.08715156 0.45138297 0.55282335 0.41961363 0.99464357]\n",
      " [0.36270555 0.79563377 0.28341477 0.96206709 0.95096511]]\n",
      "Gram_Schmidt Output\n",
      "[[ 0.          0.          0.          0.          0.        ]\n",
      " [ 0.10939822  0.20263724  0.6114439   0.05031759  0.75536394]\n",
      " [-0.22935086  0.58638298 -0.03661554  0.77584078 -0.01683952]\n",
      " [-0.47831244  0.05570167  0.20442743  0.00912339  0.85219758]\n",
      " [-0.60608515  0.01087433 -0.71908125  0.24805594  0.23223469]]\n"
     ]
    }
   ],
   "source": [
    "\"\"\"\n",
    "ii) Write a function that applies Gram-Schmidt Algorithm on the\n",
    "set of vectors a1, a2, a3, a4, a5. Let the output of Gram Schmidt\n",
    "algorithm be the vectors q1, q2, q3, q4, q5.\n",
    "\"\"\"\n",
    "def grm_schmidt(aA):\n",
    "    QMatrix = np.zeros_like(aA)\n",
    "    cMatrix = np.zeros_like(aA[0])\n",
    "    for i in range(len(aA)):\n",
    "        cMatrix=aA[i]\n",
    "        for j in range(i):\n",
    "            cMatrix-=np.dot(QMatrix[j],aA[i] * QMatrix[j])\n",
    "            QMatrix[i]= cMatrix/np.linalg.norm(cMatrix)\n",
    "\n",
    "    return QMatrix\n",
    "print(A)\n",
    "Q = grm_schmidt(A)\n",
    "print(\"Gram_Schmidt Output\")\n",
    "print(Q)"
   ]
  },
  {
   "cell_type": "code",
   "execution_count": 7,
   "id": "8a2d27fa",
   "metadata": {},
   "outputs": [
    {
     "name": "stdout",
     "output_type": "stream",
     "text": [
      "Transpose output\n",
      "[[ 0.66069179 -0.14555286  0.41333296 -0.32714195 -0.46187307]\n",
      " [-0.14555286  0.38812778  0.10599799  0.46834168  0.19318468]\n",
      " [ 0.41333296  0.10599799  0.93407276 -0.17414875  0.46969621]\n",
      " [-0.32714195  0.46834168 -0.17414875  0.66607576  0.09032543]\n",
      " [-0.46187307  0.19318468  0.46969621  0.09032543  1.35103191]]\n"
     ]
    }
   ],
   "source": [
    "\"\"\"\n",
    "iii) Write a code to create a matrix Q ∈ R5×5 with q1, q2, q3, q4, q5\n",
    "as the five columns. Then create a matrix B = Q⊤Q.\n",
    "\"\"\"\n",
    "#print(\"Q transpose\")\n",
    "#B = Q.T\n",
    "B=Q.T.dot(Q)\n",
    "print(\"Transpose output\")\n",
    "print(B)"
   ]
  },
  {
   "cell_type": "code",
   "execution_count": 8,
   "id": "138b5d23",
   "metadata": {},
   "outputs": [
    {
     "name": "stdout",
     "output_type": "stream",
     "text": [
      "matrix Frobenius norm\n",
      "1.6755152204675439\n"
     ]
    }
   ],
   "source": [
    "\"\"\"\n",
    "iv) Write a code to calculate the value of ∥B − I5∥F where ∥ · ∥F is\n",
    "the matrix Frobenius norm.\n",
    "\"\"\"\n",
    "Imatrix = np.identity(5,dtype=\"int\")\n",
    "#print(\"Identity matrix\")\n",
    "#print(Imatrix)\n",
    "print(\"matrix Frobenius norm\")\n",
    "print(np.linalg.norm(B-Imatrix,'fro'))"
   ]
  },
  {
   "cell_type": "code",
   "execution_count": null,
   "id": "0e58d84b",
   "metadata": {},
   "outputs": [],
   "source": []
  }
 ],
 "metadata": {
  "kernelspec": {
   "display_name": "Python 3 (ipykernel)",
   "language": "python",
   "name": "python3"
  },
  "language_info": {
   "codemirror_mode": {
    "name": "ipython",
    "version": 3
   },
   "file_extension": ".py",
   "mimetype": "text/x-python",
   "name": "python",
   "nbconvert_exporter": "python",
   "pygments_lexer": "ipython3",
   "version": "3.9.12"
  }
 },
 "nbformat": 4,
 "nbformat_minor": 5
}
