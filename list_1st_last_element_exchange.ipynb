{
 "cells": [
  {
   "cell_type": "code",
   "execution_count": 1,
   "id": "aea7972f",
   "metadata": {},
   "outputs": [
    {
     "name": "stdout",
     "output_type": "stream",
     "text": [
      "[12, 35, 9, 56, 24]\n"
     ]
    },
    {
     "data": {
      "text/plain": [
       "[24, 35, 9, 56, 12]"
      ]
     },
     "execution_count": 1,
     "metadata": {},
     "output_type": "execute_result"
    }
   ],
   "source": [
    "my_list = [12, 35, 9, 56, 24]\n",
    "print(my_list)\n",
    "#first_ele = my_list[0]\n",
    "last_ele = my_list[-1]\n",
    "first_ele = last_ele\n",
    "my_list[-1] = my_list[0]\n",
    "my_list[0] = first_ele\n",
    "my_list"
   ]
  },
  {
   "cell_type": "code",
   "execution_count": 2,
   "id": "afec7b34",
   "metadata": {},
   "outputs": [
    {
     "name": "stdout",
     "output_type": "stream",
     "text": [
      "[12, 35, 9, 56, 24]\n"
     ]
    },
    {
     "data": {
      "text/plain": [
       "[24, 35, 9, 56, 12]"
      ]
     },
     "execution_count": 2,
     "metadata": {},
     "output_type": "execute_result"
    }
   ],
   "source": [
    "def swap_list(swapList):\n",
    "    temp = my_list[0]\n",
    "    my_list[0] = my_list[-1]\n",
    "    my_list[-1] = temp\n",
    "    #print(my_list)\n",
    "    return my_list\n",
    "\n",
    "my_list = [12, 35, 9, 56, 24]\n",
    "print(my_list)\n",
    "swap_list(my_list)"
   ]
  },
  {
   "cell_type": "code",
   "execution_count": 3,
   "id": "d1968fb5",
   "metadata": {},
   "outputs": [
    {
     "name": "stdout",
     "output_type": "stream",
     "text": [
      "[24, 35, 9, 56, 12]\n"
     ]
    },
    {
     "data": {
      "text/plain": [
       "[12, 35, 9, 56, 24]"
      ]
     },
     "execution_count": 3,
     "metadata": {},
     "output_type": "execute_result"
    }
   ],
   "source": [
    "def exchange_list(newList):\n",
    "    newList[0],newList[-1] = newList[-1],newList[0]\n",
    "    return newList\n",
    "#newList = [1, 2, 3]\n",
    "newList = [24, 35, 9, 56, 12]\n",
    "print(newList)\n",
    "exchange_list(newList)"
   ]
  },
  {
   "cell_type": "code",
   "execution_count": null,
   "id": "60951bde",
   "metadata": {},
   "outputs": [],
   "source": []
  }
 ],
 "metadata": {
  "kernelspec": {
   "display_name": "Python 3 (ipykernel)",
   "language": "python",
   "name": "python3"
  },
  "language_info": {
   "codemirror_mode": {
    "name": "ipython",
    "version": 3
   },
   "file_extension": ".py",
   "mimetype": "text/x-python",
   "name": "python",
   "nbconvert_exporter": "python",
   "pygments_lexer": "ipython3",
   "version": "3.9.12"
  }
 },
 "nbformat": 4,
 "nbformat_minor": 5
}
