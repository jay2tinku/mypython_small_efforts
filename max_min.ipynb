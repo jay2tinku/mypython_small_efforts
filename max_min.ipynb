{
 "cells": [
  {
   "cell_type": "code",
   "execution_count": 1,
   "id": "797e7334",
   "metadata": {},
   "outputs": [
    {
     "name": "stdout",
     "output_type": "stream",
     "text": [
      "The list is : [1, 4, 5, 7, 8]\n",
      "Length of list using naive method is :  5\n"
     ]
    }
   ],
   "source": [
    "# Initializing list\n",
    "test_list = [ 1, 4, 5, 7, 8 ]\n",
    " \n",
    "# Printing test_list\n",
    "print (\"The list is : \" + str(test_list))\n",
    "counter = 0\n",
    "for i in test_list:\n",
    "    counter += 1\n",
    "    #return counter\n",
    "print(\"Length of list using naive method is : \", counter)"
   ]
  },
  {
   "cell_type": "code",
   "execution_count": 18,
   "id": "84ff2047",
   "metadata": {},
   "outputs": [
    {
     "name": "stdout",
     "output_type": "stream",
     "text": [
      "Enter num1: 45\n",
      "Enter num2: 34\n",
      "Maximum no is:  45\n",
      "Enter num1: 43\n",
      "Enter num2: 567\n",
      "Maximum no is:  567\n"
     ]
    }
   ],
   "source": [
    "def maximum_num(num1, num2):\n",
    "    if num1 > num2:\n",
    "        return num1\n",
    "    else:\n",
    "        return num2\n",
    "        \n",
    "num1 = int(input(\"Enter num1: \"))\n",
    "num2 = int(input(\"Enter num2: \"))\n",
    "\n",
    "print(\"Maximum no is: \",maximum_num(num1, num2))\n",
    "\n",
    "num1 = int(input(\"Enter num1: \"))\n",
    "num2 = int(input(\"Enter num2: \"))\n",
    "print(\"Maximum no is: \",max(num1, num2))\n"
   ]
  },
  {
   "cell_type": "code",
   "execution_count": 19,
   "id": "bafd3f99",
   "metadata": {},
   "outputs": [
    {
     "name": "stdout",
     "output_type": "stream",
     "text": [
      "Enter num1: 23\n",
      "Enter num2: 34\n",
      "Minimum no is:  23\n",
      "Enter num1: 43\n",
      "Enter num2: 32\n",
      "Minimum no is:  32\n"
     ]
    }
   ],
   "source": [
    "def minimum_num(num1, num2):\n",
    "    if num1 < num2:\n",
    "        return num1\n",
    "    else:\n",
    "        return num2\n",
    "        \n",
    "num1 = int(input(\"Enter num1: \"))\n",
    "num2 = int(input(\"Enter num2: \"))\n",
    "print(\"Minimum no is: \",minimum_num(num1, num2))\n",
    "\n",
    "num1 = int(input(\"Enter num1: \"))\n",
    "num2 = int(input(\"Enter num2: \"))\n",
    "print(\"Minimum no is: \",min(num1, num2))"
   ]
  },
  {
   "cell_type": "code",
   "execution_count": null,
   "id": "80da6643",
   "metadata": {},
   "outputs": [],
   "source": []
  }
 ],
 "metadata": {
  "kernelspec": {
   "display_name": "Python 3 (ipykernel)",
   "language": "python",
   "name": "python3"
  },
  "language_info": {
   "codemirror_mode": {
    "name": "ipython",
    "version": 3
   },
   "file_extension": ".py",
   "mimetype": "text/x-python",
   "name": "python",
   "nbconvert_exporter": "python",
   "pygments_lexer": "ipython3",
   "version": "3.9.12"
  }
 },
 "nbformat": 4,
 "nbformat_minor": 5
}
