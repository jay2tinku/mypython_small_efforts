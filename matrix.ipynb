{
 "cells": [
  {
   "cell_type": "code",
   "execution_count": 1,
   "id": "6054e8a9",
   "metadata": {},
   "outputs": [
    {
     "name": "stdout",
     "output_type": "stream",
     "text": [
      "[[5, 8, 10], [2, 0, 9], [5, 4, 2], [2, 3, 9]]\n",
      "\n",
      " {5: [2, 0, 9], 8: [5, 4, 2], 10: [2, 3, 9]}\n"
     ]
    }
   ],
   "source": [
    "# Assigning Subsequent Rows to Matrix first row elements\n",
    "\n",
    "test_list = [[5, 8, 10], [2, 0, 9], [5, 4, 2], [2, 3, 9]]\n",
    "print(test_list)\n",
    "res = {test_list[0][ele] :  test_list[ele + 1] for ele in range(len(test_list) - 1)}\n",
    "print(\"\\n\",res)"
   ]
  },
  {
   "cell_type": "code",
   "execution_count": 13,
   "id": "da166879",
   "metadata": {},
   "outputs": [
    {
     "name": "stdout",
     "output_type": "stream",
     "text": [
      "A+B is :  [[ 5  7]\n",
      " [ 9 11]]\n",
      "\n",
      "A-B is :  [[-3 -3]\n",
      " [-3 -3]]\n",
      "\n",
      "A+B using np.add is :  [[ 5  7]\n",
      " [ 9 11]]\n",
      "\n",
      "A-B using np.subtract is :  [[-3 -3]\n",
      " [-3 -3]]\n"
     ]
    }
   ],
   "source": [
    "# Adding and Subtracting Matrices in Python\n",
    "import numpy as np\n",
    "A = np.array([[1,2],[3,4]])\n",
    "B = np.array([[4,5],[6,7]])\n",
    "\n",
    "print(\"A+B is : \",  A+B)\n",
    "print(\"\\nA-B is : \",  A-B)\n",
    "\n",
    "print(\"\\nA+B using np.add is : \",np.add(A,B))\n",
    "print(\"\\nA-B using np.subtract is : \",np.subtract(A,B))"
   ]
  },
  {
   "cell_type": "code",
   "execution_count": 70,
   "id": "979c1ab7",
   "metadata": {},
   "outputs": [
    {
     "name": "stdout",
     "output_type": "stream",
     "text": [
      "What is your name :123\n",
      "Input your Fav no :123\n",
      "My name is : 123 and fav num is : 123\n"
     ]
    }
   ],
   "source": [
    "#Print Multiple Arguments in Python\n",
    "def mul_string(name, num):\n",
    "    print(\"My name is :\",name, \"and fav num is :\",num)\n",
    "\n",
    "name = str(input(\"What is your name :\"))\n",
    "num = int(input(\"Input your Fav no :\"))\n",
    "mul_string(name, num)\n",
    "          "
   ]
  },
  {
   "cell_type": "code",
   "execution_count": 85,
   "id": "400661b3",
   "metadata": {},
   "outputs": [
    {
     "name": "stdout",
     "output_type": "stream",
     "text": [
      "['a', 'b', 'c', 'd']\n",
      "[1, 3, 9, 26]\n",
      "None\n"
     ]
    }
   ],
   "source": [
    "# Sorting objects of user defined class\n",
    "def sort_func(list_num, list_abc):\n",
    "    print(sorted(list_num))\n",
    "    print(sorted(list_abc))\n",
    "    \n",
    "list_num = [1,26,3,9]\n",
    "list_abc = ['b','d','c','a']\n",
    "print(sort_func(list_abc, list_num))"
   ]
  },
  {
   "cell_type": "code",
   "execution_count": null,
   "id": "31049474",
   "metadata": {},
   "outputs": [],
   "source": []
  }
 ],
 "metadata": {
  "kernelspec": {
   "display_name": "Python 3 (ipykernel)",
   "language": "python",
   "name": "python3"
  },
  "language_info": {
   "codemirror_mode": {
    "name": "ipython",
    "version": 3
   },
   "file_extension": ".py",
   "mimetype": "text/x-python",
   "name": "python",
   "nbconvert_exporter": "python",
   "pygments_lexer": "ipython3",
   "version": "3.9.12"
  }
 },
 "nbformat": 4,
 "nbformat_minor": 5
}
