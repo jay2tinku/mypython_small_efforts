{
 "cells": [
  {
   "cell_type": "code",
   "execution_count": 16,
   "id": "2fbdc2e6",
   "metadata": {},
   "outputs": [
    {
     "name": "stdout",
     "output_type": "stream",
     "text": [
      "Please enter your string to check symmetrical and palindrome : amaama\n",
      "amaama\n",
      "amaama Given string is symetric\n",
      "amaama Given string is palindrome\n"
     ]
    }
   ],
   "source": [
    "string = input(\"Please enter your string to check symmetrical and palindrome : \")\n",
    "print(string)\n",
    "string_half = int(len(string)/2)\n",
    "if len(string)%2 == 0: #even\n",
    "    first_string = string[:string_half]\n",
    "    second_string = string[string_half:]\n",
    "else:\n",
    "    first_string = string[:string_half]\n",
    "    second_string = string[string_half+1:]\n",
    "\n",
    "## symmetric    \n",
    "if first_string == second_string:\n",
    "    print(string, \"Given string is symetric\")\n",
    "else:\n",
    "     print(string, \"Given string is not symetric\")\n",
    "        \n",
    "# palindrome\n",
    "if first_string == second_string[::-1]:\n",
    "    print(string, \"Given string is palindrome\")\n",
    "else:\n",
    "     print(string, \"Given string is not palindrome\")"
   ]
  },
  {
   "cell_type": "code",
   "execution_count": 38,
   "id": "1048ace6",
   "metadata": {},
   "outputs": [
    {
     "name": "stdout",
     "output_type": "stream",
     "text": [
      "['My', 'name', 'is', 'Rakesh']\n",
      "['Rakesh', 'name', 'is', 'My']\n"
     ]
    }
   ],
   "source": [
    "str = \"My name is Rakesh\"\n",
    "str_split = str.split()\n",
    "print(str_split)\n",
    "temp = str_split[0]\n",
    "str_split[0] = str_split[-1]\n",
    "str_split[-1] = temp\n",
    "str = str_split\n",
    "print(str_split)"
   ]
  },
  {
   "cell_type": "code",
   "execution_count": 45,
   "id": "efaab5c5",
   "metadata": {},
   "outputs": [
    {
     "name": "stdout",
     "output_type": "stream",
     "text": [
      "code practice quiz geeks\n"
     ]
    }
   ],
   "source": [
    "\n",
    "# Python code\n",
    "# To reverse words in a given string\n",
    " \n",
    "# input string\n",
    "string = \"geeks quiz practice code\"\n",
    "# reversing words in a given string\n",
    "s = string.split()[::-1]\n",
    "l = []\n",
    "for i in s:\n",
    "    # apending reversed words to l\n",
    "    l.append(i)\n",
    "# printing reverse words\n",
    "print(\" \".join(l))"
   ]
  },
  {
   "cell_type": "code",
   "execution_count": 68,
   "id": "61d1b77a",
   "metadata": {},
   "outputs": [
    {
     "name": "stdout",
     "output_type": "stream",
     "text": [
      "String length using len function :  14\n",
      "String length using iteration :  14\n"
     ]
    }
   ],
   "source": [
    "str = 'Mamta / Rakesh'\n",
    "#def find_str_len(str):\n",
    "print(\"String length using len function : \",len(str))\n",
    "count = 0\n",
    "for i in str:\n",
    "    count += 1\n",
    "print(\"String length using iteration : \",count)\n",
    "\n",
    "#str = 'Mamta / Rakesh'\n",
    "#ind_str_len(str)\n"
   ]
  },
  {
   "cell_type": "code",
   "execution_count": 132,
   "id": "3c212c03",
   "metadata": {},
   "outputs": [
    {
     "name": "stdout",
     "output_type": "stream",
     "text": [
      "Original string :  Hello how are you ?\n"
     ]
    }
   ],
   "source": [
    "def even_word(split_str):\n",
    "    for even_word in split_str:\n",
    "        if len(even_word)%2 == 0:\n",
    "            print(even_word)\n",
    "\n",
    "str = \"Hello how are you ?\"\n",
    "split_str = str.split()\n",
    "print(\"Original string : \", str)\n",
    "even_word(split_str)"
   ]
  }
 ],
 "metadata": {
  "kernelspec": {
   "display_name": "Python 3 (ipykernel)",
   "language": "python",
   "name": "python3"
  },
  "language_info": {
   "codemirror_mode": {
    "name": "ipython",
    "version": 3
   },
   "file_extension": ".py",
   "mimetype": "text/x-python",
   "name": "python",
   "nbconvert_exporter": "python",
   "pygments_lexer": "ipython3",
   "version": "3.9.12"
  }
 },
 "nbformat": 4,
 "nbformat_minor": 5
}
