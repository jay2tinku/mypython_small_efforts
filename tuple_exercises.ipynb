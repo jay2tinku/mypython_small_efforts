{
 "cells": [
  {
   "cell_type": "code",
   "execution_count": 1,
   "id": "e3d4d85d",
   "metadata": {},
   "outputs": [
    {
     "name": "stdout",
     "output_type": "stream",
     "text": [
      "Tuple size of tuple1 : 88\n",
      "Tuple size of tuple1 : 88\n",
      "Tuple size of tuple1 : 72\n"
     ]
    }
   ],
   "source": [
    "import sys\n",
    "print\n",
    "def tuple_size(tuple):\n",
    "    tuple_size = sys.getsizeof(tuple)\n",
    "    return tuple_size\n",
    "\n",
    "tuple1 = (\"A\", 1, \"B\", 2, \"C\", 3)\n",
    "tuple2 = (\"Geek1\", \"Raju\", \"Geek2\", \"Nikhil\", \"Geek3\", \"Deepanshu\")\n",
    "tuple3 = ((1, \"Lion\"), ( 2, \"Tiger\"), (3, \"Fox\"), (4, \"Wolf\"))\n",
    "\n",
    "#for tuple in tuple1 tuple2 tuple3:\n",
    "#print(\"My tuple is : \", tuple1)\n",
    "print(\"Tuple size of tuple1 :\",tuple_size(tuple1))\n",
    "print(\"Tuple size of tuple1 :\",tuple_size(tuple2))\n",
    "print(\"Tuple size of tuple1 :\",tuple_size(tuple3))"
   ]
  },
  {
   "cell_type": "code",
   "execution_count": 2,
   "id": "69a5eebb",
   "metadata": {},
   "outputs": [
    {
     "name": "stdout",
     "output_type": "stream",
     "text": [
      "My tuple is :  (7, 8, 9, 1, 10, 7)\n",
      "Sum of my tuple is :  42\n",
      "42\n"
     ]
    }
   ],
   "source": [
    "def tuple_sum(test_tup):\n",
    "    sum = 0\n",
    "    for num in test_tup:\n",
    "        sum = sum + num\n",
    "    return sum\n",
    "test_tup = (7, 8, 9, 1, 10, 7)\n",
    "print(\"My tuple is : \", test_tup)\n",
    "print(\"Sum of my tuple is : \", tuple_sum(test_tup))\n",
    "\n",
    "print(sum(list(test_tup)))"
   ]
  },
  {
   "cell_type": "code",
   "execution_count": 19,
   "id": "11957d19",
   "metadata": {},
   "outputs": [
    {
     "data": {
      "text/plain": [
       "[(1, 1), (2, 8), (3, 27)]"
      ]
     },
     "execution_count": 19,
     "metadata": {},
     "output_type": "execute_result"
    }
   ],
   "source": [
    "list1 = [1, 2, 3]\n",
    "[(num, pow(num, 3)) for num in list1]\n",
    "#res = [(val, pow(val, 3)) for val in list1]\n",
    "#print(res)"
   ]
  },
  {
   "cell_type": "code",
   "execution_count": null,
   "id": "88a79403",
   "metadata": {},
   "outputs": [],
   "source": []
  },
  {
   "cell_type": "code",
   "execution_count": null,
   "id": "473397d6",
   "metadata": {},
   "outputs": [],
   "source": []
  }
 ],
 "metadata": {
  "kernelspec": {
   "display_name": "Python 3 (ipykernel)",
   "language": "python",
   "name": "python3"
  },
  "language_info": {
   "codemirror_mode": {
    "name": "ipython",
    "version": 3
   },
   "file_extension": ".py",
   "mimetype": "text/x-python",
   "name": "python",
   "nbconvert_exporter": "python",
   "pygments_lexer": "ipython3",
   "version": "3.9.12"
  }
 },
 "nbformat": 4,
 "nbformat_minor": 5
}
