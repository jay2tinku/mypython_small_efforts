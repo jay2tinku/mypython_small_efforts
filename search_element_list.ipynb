{
 "cells": [
  {
   "cell_type": "code",
   "execution_count": 9,
   "id": "5fd590ae",
   "metadata": {},
   "outputs": [
    {
     "name": "stdout",
     "output_type": "stream",
     "text": [
      "[1, 6, 3, 5, 3, 4]\n",
      "Input the number you want to find: 7\n",
      "Your number doesn't exist\n"
     ]
    }
   ],
   "source": [
    "#search_element_list\n",
    "\n",
    "test_list = [1, 6, 3, 5, 3, 4]\n",
    "print(test_list)\n",
    "find_num = int(input(\"Input the number you want to find: \"))\n",
    "if find_num in test_list:\n",
    "    print(\"We can find your number: \", find_num)\n",
    "else:\n",
    "    print(\"Your number doesn't exist\") "
   ]
  },
  {
   "cell_type": "code",
   "execution_count": 10,
   "id": "265d39cf",
   "metadata": {},
   "outputs": [
    {
     "name": "stdout",
     "output_type": "stream",
     "text": [
      "list before clear : [6, 0, 4, 1]\n",
      "list after clear : []\n"
     ]
    }
   ],
   "source": [
    "#clear list\n",
    "geek = [6, 0, 4, 1]\n",
    "print(\"list before clear :\",geek)\n",
    "geek.clear()\n",
    "print(\"list after clear :\",geek)"
   ]
  },
  {
   "cell_type": "code",
   "execution_count": 29,
   "id": "d3e26662",
   "metadata": {},
   "outputs": [
    {
     "name": "stdout",
     "output_type": "stream",
     "text": [
      "list before clear : [4, 5, 6, 7, 8, 9]\n",
      "list after clear : [9, 8, 7, 6, 5, 4]\n",
      "Reverse using for loot [4, 5, 6, 7, 8, 9]\n"
     ]
    }
   ],
   "source": [
    "#revese list\n",
    "list = [4, 5, 6, 7, 8, 9]\n",
    "print(\"list before clear :\",list)\n",
    "list.reverse()\n",
    "print(\"list after clear :\",list)\n",
    "\n",
    "l = []\n",
    "for i in list:\n",
    "    l.insert(0, i)\n",
    "print(\"Reverse using for loot\", l)"
   ]
  },
  {
   "cell_type": "code",
   "execution_count": 37,
   "id": "ecf89890",
   "metadata": {},
   "outputs": [
    {
     "name": "stdout",
     "output_type": "stream",
     "text": [
      "list before clone : [4, 5, 6, 7, 8, 9]\n",
      "list after copy : [4, 5, 6, 7, 8, 9]\n"
     ]
    }
   ],
   "source": [
    "#clone list\n",
    "list = [4, 5, 6, 7, 8, 9]\n",
    "print(\"list before clone :\",list)\n",
    "\n",
    "copy = list.copy()\n",
    "print(\"list after copy :\",copy)"
   ]
  },
  {
   "cell_type": "code",
   "execution_count": 49,
   "id": "9e228644",
   "metadata": {},
   "outputs": [
    {
     "name": "stdout",
     "output_type": "stream",
     "text": [
      "[15, 6, 7, 10, 12, 20, 10, 28, 10, 10, 12, 12, 12, 10, 15, 15, 12, 10]\n",
      "Enter number from list to check occurance :15\n",
      "3\n"
     ]
    }
   ],
   "source": [
    "#occurrences of element in list\n",
    "\n",
    "lst = [15, 6, 7, 10, 12, 20, 10, 28, 10, 10, 12, 12, 12, 10, 15, 15, 12, 10]\n",
    "print(lst)\n",
    "count = 0\n",
    "occur_num = int(input(\"Enter number from list to check occurance :\"))\n",
    "for number in lst:\n",
    "    if number == occur_num:\n",
    "        count += 1\n",
    "print(count)"
   ]
  },
  {
   "cell_type": "code",
   "execution_count": 59,
   "id": "42ffe30a",
   "metadata": {},
   "outputs": [
    {
     "name": "stdout",
     "output_type": "stream",
     "text": [
      "My list is:  [4, 5, 1, 2, 9, 7, 10, 8]\n",
      "Sum of list is:  46\n",
      "Mean of list is:  5.75\n",
      "\n",
      "#######################################################\n",
      "\n",
      "Sum of the list is : 46\n",
      "Avg of the list is : 5.75\n"
     ]
    }
   ],
   "source": [
    "#sum and avg\n",
    "import numpy as np\n",
    "list = [4, 5, 1, 2, 9, 7, 10, 8]\n",
    "print(\"My list is: \", list)\n",
    "my_array = np.array(list)\n",
    "print(\"Sum of list is: \", my_array.sum())\n",
    "print(\"Mean of list is: \", my_array.mean())\n",
    "\n",
    "print(\"\\n#######################################################\\n\")\n",
    "sum = 0\n",
    "for i in list:\n",
    "    sum += i\n",
    "print(\"Sum of the list is :\",sum)\n",
    "\n",
    "avg = sum/len(list)\n",
    "print(\"Avg of the list is :\",avg)"
   ]
  },
  {
   "cell_type": "code",
   "execution_count": null,
   "id": "96737824",
   "metadata": {},
   "outputs": [],
   "source": []
  }
 ],
 "metadata": {
  "kernelspec": {
   "display_name": "Python 3 (ipykernel)",
   "language": "python",
   "name": "python3"
  },
  "language_info": {
   "codemirror_mode": {
    "name": "ipython",
    "version": 3
   },
   "file_extension": ".py",
   "mimetype": "text/x-python",
   "name": "python",
   "nbconvert_exporter": "python",
   "pygments_lexer": "ipython3",
   "version": "3.9.12"
  }
 },
 "nbformat": 4,
 "nbformat_minor": 5
}
